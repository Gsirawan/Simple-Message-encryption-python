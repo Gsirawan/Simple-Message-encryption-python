{
 "cells": [
  {
   "cell_type": "markdown",
   "metadata": {},
   "source": [
    "### Encrypt your message here:"
   ]
  },
  {
   "cell_type": "code",
   "execution_count": 2,
   "metadata": {},
   "outputs": [
    {
     "name": "stdout",
     "output_type": "stream",
     "text": [
      "Please enter your message to be encrypted: \n",
      "What?\n",
      "The message is:   \u001b[32mWhat?\u001b[0m\n",
      "And the encrypted message is:   \u001b[35msdf4fr65fghw34_asdf12_asdf33_fg05ghhg_uih_\u001b[0m\n"
     ]
    }
   ],
   "source": [
    "from termcolor import colored\n",
    "\n",
    "cipher = {\"a\":\"asdf33_\",\n",
    "          \"b\":\"dfght0_\",\n",
    "          \"c\":\"5641as_\",\n",
    "          \"d\":\"asre43_\",\n",
    "          \"e\":\"324fvm_\",\n",
    "          \"f\":\"asdfs3_\",\n",
    "          \"g\":\"1231dd_\",\n",
    "          \"h\":\"asdf12_\",\n",
    "          \"i\":\"dsarf4_\",\n",
    "          \"j\":\"563414_\",\n",
    "          \"k\":\"UYT879_\",\n",
    "          \"l\":\"321uh9_\",\n",
    "          \"m\":\"56bt50_\",\n",
    "          \"n\":\"213ed_\",\n",
    "          \"o\":\"o_\",\n",
    "          \"p\":\"wer0_\",\n",
    "          \"q\":\"5896001_\",\n",
    "          \"r\":\"dfsgrew4_\",\n",
    "          \"s\":\"32423df_\",\n",
    "          \"t\":\"fg05ghhg_\",\n",
    "          \"u\":\"d0wf034_\",\n",
    "          \"v\":\"dfgert6_\",\n",
    "          \"w\":\"sdf4w34_\",\n",
    "          \"x\":\"sqdei432_\",\n",
    "          \"y\":\"i32309d3_\",\n",
    "          \"z\":\"sas2_\",\n",
    "          \"A\":\"asd87f33_\",\n",
    "          \"B\":\"dfghkht0_\",\n",
    "          \"C\":\"564891as_\",\n",
    "          \"D\":\"asrjhhe43_\",\n",
    "          \"E\":\"324kkhfvm_\",\n",
    "          \"F\":\"as8878dfs3_\",\n",
    "          \"G\":\"12jk31dd_\",\n",
    "          \"H\":\"asdfhjk12_\",\n",
    "          \"I\":\"dsa887rf4_\",\n",
    "          \"J\":\"563hiu414_\",\n",
    "          \"K\":\"32898uh1uh9_\",\n",
    "          \"L\":\"56bh7887t50_\",\n",
    "          \"M\":\"213980ed_\",\n",
    "          \"N\":\"o898_\",\n",
    "          \"O\":\"909u88hb_\",\n",
    "          \"P\":\"we897r0_\",\n",
    "          \"Q\":\"58ui96001_\",\n",
    "          \"R\":\"dfkujy9sgrew4_\",\n",
    "          \"S\":\"32uih423df_\",\n",
    "          \"T\":\"fg0785ghhg_\",\n",
    "          \"U\":\"d0wfhgjk034_\",\n",
    "          \"V\":\"d0wf89jhjk034_\",\n",
    "          \"W\":\"sdf4fr65fghw34_\",\n",
    "          \"X\":\"sqdehgff6i432_\",\n",
    "          \"Y\":\"i323rfd609d3_\",\n",
    "          \"Z\":\"s7876sas2_\",\n",
    "          \" \":\"&_\",\n",
    "          \"?\":\"uih_\",\n",
    "          \"!\":\"gtyu_\",\n",
    "          \",\":\"aweda_\"\n",
    "         }\n",
    "\n",
    "def encrypt(cipher, word):\n",
    "    \"\"\"encrypt word using cipher\"\"\"\n",
    "    encrypted = \"\"\n",
    "    for char in word:\n",
    "        encrypted += cipher[char]\n",
    "    return encrypted\n",
    "\n",
    "\n",
    "print(\"Please enter your message to be encrypted: \")\n",
    "message = input()\n",
    "\n",
    "send = encrypt(cipher, message)\n",
    "print(\"The message is:  \", colored(message, 'green'))\n",
    "print(\"And the encrypted message is:  \", colored(send, 'magenta'))"
   ]
  },
  {
   "cell_type": "code",
   "execution_count": null,
   "metadata": {},
   "outputs": [],
   "source": []
  },
  {
   "cell_type": "code",
   "execution_count": null,
   "metadata": {},
   "outputs": [],
   "source": []
  }
 ],
 "metadata": {
  "kernelspec": {
   "display_name": "Python 3",
   "language": "python",
   "name": "python3"
  },
  "language_info": {
   "codemirror_mode": {
    "name": "ipython",
    "version": 3
   },
   "file_extension": ".py",
   "mimetype": "text/x-python",
   "name": "python",
   "nbconvert_exporter": "python",
   "pygments_lexer": "ipython3",
   "version": "3.7.7"
  }
 },
 "nbformat": 4,
 "nbformat_minor": 4
}
