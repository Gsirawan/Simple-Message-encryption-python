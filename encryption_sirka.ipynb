
cipher = {"a":"asdf33_",
          "b":"dfght0_",
          "c":"5641as_",
          "d":"asre43_",
          "e":"324fvm_",
          "f":"asdfs3_",
          "g":"1231dd_",
          "h":"asdf12_",
          "i":"dsarf4_",
          "j":"563414_",
          "k":"UYT879_",
          "l":"321uh9_",
          "m":"56bt50_",
          "n":"213ed_",
          "o":"o_",
          "p":"wer0_",
          "q":"5896001_",
          "r":"dfsgrew4_",
          "s":"32423df_",
          "t":"fg05ghhg_",
          "u":"d0wf034_",
          "v":"dfgert6_",
          "w":"sdf4w34_",
          "x":"sqdei432_",
          "y":"i32309d3_",
          "z":"sas2_",
          "A":"asd87f33_",
          "B":"dfghkht0_",
          "C":"564891as_",
          "D":"asrjhhe43_",
          "E":"324kkhfvm_",
          "F":"as8878dfs3_",
          "G":"12jk31dd_",
          "H":"asdfhjk12_",
          "I":"dsa887rf4_",
          "J":"563hiu414_",
          "K":"32898uh1uh9_",
          "L":"56bh7887t50_",
          "M":"213980ed_",
          "N":"o898_",
          "O":"909u88hb_",
          "P":"we897r0_",
          "Q":"58ui96001_",
          "R":"dfkujy9sgrew4_",
          "S":"32uih423df_",
          "T":"fg0785ghhg_",
          "U":"d0wfhgjk034_",
          "V":"d0wf89jhjk034_",
          "W":"sdf4fr65fghw34_",
          "X":"sqdehgff6i432_",
          "Y":"i323rfd609d3_",
          "Z":"s7876sas2_",
          " ":"&_",
          "?":"uih_",
          "!":"gtyu_",
          ",":"aweda_"
         }

def encrypt(cipher, word):
    """encrypt word using cipher"""
    encrypted = ""
    for char in word:
        encrypted += cipher[char]
    return encrypted


print("Please enter your message to be encrypted: ")
Ghaith = input()

send = encrypt(cipher, Ghaith)

print("The encrypted message:\n\n",send)
