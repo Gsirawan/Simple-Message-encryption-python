{
 "cells": [
  {
   "cell_type": "markdown",
   "metadata": {},
   "source": [
    "### Encrypt your message here:"
   ]
  },
  {
   "cell_type": "code",
   "execution_count": 31,
   "metadata": {},
   "outputs": [
    {
     "name": "stdout",
     "output_type": "stream",
     "text": [
      "The encrypted message:\n",
      "\n",
      " asdfhjk12_324fvm_321uh9_321uh9_o_&_sdf4fr65fghw34_o_dfsgrew4_321uh9_asre43_gtyu_\n"
     ]
    }
   ],
   "source": [
    "cipher = {\"a\":\"asdf33_\",\n",
    "          \"b\":\"dfght0_\",\n",
    "          \"c\":\"5641as_\",\n",
    "          \"d\":\"asre43_\",\n",
    "          \"e\":\"324fvm_\",\n",
    "          \"f\":\"asdfs3_\",\n",
    "          \"g\":\"1231dd_\",\n",
    "          \"h\":\"asdf12_\",\n",
    "          \"i\":\"dsarf4_\",\n",
    "          \"j\":\"563414_\",\n",
    "          \"k\":\"UYT879_\",\n",
    "          \"l\":\"321uh9_\",\n",
    "          \"m\":\"56bt50_\",\n",
    "          \"n\":\"213ed_\",\n",
    "          \"o\":\"o_\",\n",
    "          \"p\":\"wer0_\",\n",
    "          \"q\":\"5896001_\",\n",
    "          \"r\":\"dfsgrew4_\",\n",
    "          \"s\":\"32423df_\",\n",
    "          \"t\":\"fg05ghhg_\",\n",
    "          \"u\":\"d0wf034_\",\n",
    "          \"v\":\"dfgert6_\",\n",
    "          \"w\":\"sdf4w34_\",\n",
    "          \"x\":\"sqdei432_\",\n",
    "          \"y\":\"i32309d3_\",\n",
    "          \"z\":\"sas2_\",\n",
    "          \"A\":\"asd87f33_\",\n",
    "          \"B\":\"dfghkht0_\",\n",
    "          \"C\":\"564891as_\",\n",
    "          \"D\":\"asrjhhe43_\",\n",
    "          \"E\":\"324kkhfvm_\",\n",
    "          \"F\":\"as8878dfs3_\",\n",
    "          \"G\":\"12jk31dd_\",\n",
    "          \"H\":\"asdfhjk12_\",\n",
    "          \"I\":\"dsa887rf4_\",\n",
    "          \"J\":\"563hiu414_\",\n",
    "          \"K\":\"32898uh1uh9_\",\n",
    "          \"L\":\"56bh7887t50_\",\n",
    "          \"M\":\"213980ed_\",\n",
    "          \"N\":\"o898_\",\n",
    "          \"O\":\"909u88hb_\",\n",
    "          \"P\":\"we897r0_\",\n",
    "          \"Q\":\"58ui96001_\",\n",
    "          \"R\":\"dfkujy9sgrew4_\",\n",
    "          \"S\":\"32uih423df_\",\n",
    "          \"T\":\"fg0785ghhg_\",\n",
    "          \"U\":\"d0wfhgjk034_\",\n",
    "          \"V\":\"d0wf89jhjk034_\",\n",
    "          \"W\":\"sdf4fr65fghw34_\",\n",
    "          \"X\":\"sqdehgff6i432_\",\n",
    "          \"Y\":\"i323rfd609d3_\",\n",
    "          \"Z\":\"s7876sas2_\",\n",
    "          \" \":\"&_\",\n",
    "          \"?\":\"uih_\",\n",
    "          \"!\":\"gtyu_\",\n",
    "          \",\":\"aweda_\"\n",
    "         }\n",
    "\n",
    "def encrypt(cipher, word):\n",
    "    \"\"\"encrypt word using cipher\"\"\"\n",
    "    encrypted = \"\"\n",
    "    for char in word:\n",
    "        encrypted += cipher[char]\n",
    "    return encrypted\n",
    "\n",
    "\n",
    "Ghaith = \"Hello World!\"\n",
    "\n",
    "send = encrypt(cipher, Ghaith)\n",
    "\n",
    "print(\"The encrypted message:\\n\\n\",send)"
   ]
  },
  {
   "cell_type": "markdown",
   "metadata": {},
   "source": [
    "### process your encrypted message here:\n",
    "- replace the value `send` with a `str` of the encrypted message."
   ]
  },
  {
   "cell_type": "code",
   "execution_count": 32,
   "metadata": {},
   "outputs": [
    {
     "name": "stdout",
     "output_type": "stream",
     "text": [
      "['asdfhjk12_', '324fvm_', '321uh9_', '321uh9_', 'o_', '&_', 'sdf4fr65fghw34_', 'o_', 'dfsgrew4_', '321uh9_', 'asre43_', 'gtyu_']\n"
     ]
    }
   ],
   "source": [
    "themsg = send\n",
    "newMsg = []\n",
    "recieved = themsg.split(\"_\")\n",
    "for i in recieved:\n",
    "    char = i.replace(\" \",\"\") + \"_\"\n",
    "    newMsg.append(char)\n",
    "newMsg = newMsg[:-1]\n",
    "print(newMsg)"
   ]
  },
  {
   "cell_type": "markdown",
   "metadata": {},
   "source": [
    "### Decrypt your message:"
   ]
  },
  {
   "cell_type": "code",
   "execution_count": 33,
   "metadata": {},
   "outputs": [],
   "source": [
    "\n",
    "def decrypt_dict(cipher_dict):\n",
    "    \n",
    "# cipher dictionary return with keys as values and values as keys. \n",
    "    decipher_dict = {}\n",
    "    for letter in cipher_dict:\n",
    "        decipher_dict[cipher_dict[letter]] = letter\n",
    "    return decipher_dict\n",
    "\n",
    "DECIPHER_DICT = decrypt_dict(cipher)"
   ]
  },
  {
   "cell_type": "code",
   "execution_count": 34,
   "metadata": {},
   "outputs": [
    {
     "name": "stdout",
     "output_type": "stream",
     "text": [
      "The decrypted message:\n",
      "\n",
      " Hello World!\n"
     ]
    }
   ],
   "source": [
    "for key in newMsg:\n",
    "    if key in DECIPHER_DICT:\n",
    "        char += (DECIPHER_DICT[key])\n",
    "    else:\n",
    "        print(\"{} not in cipher\".format(key))\n",
    "char = char[1:]\n",
    "print(\"The decrypted message:\\n\\n\",char)"
   ]
  },
  {
   "cell_type": "code",
   "execution_count": null,
   "metadata": {},
   "outputs": [],
   "source": []
  }
 ],
 "metadata": {
  "kernelspec": {
   "display_name": "Python 3",
   "language": "python",
   "name": "python3"
  },
  "language_info": {
   "codemirror_mode": {
    "name": "ipython",
    "version": 3
   },
   "file_extension": ".py",
   "mimetype": "text/x-python",
   "name": "python",
   "nbconvert_exporter": "python",
   "pygments_lexer": "ipython3",
   "version": "3.7.7"
  }
 },
 "nbformat": 4,
 "nbformat_minor": 4
}
